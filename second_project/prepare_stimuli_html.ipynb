{
 "cells": [
  {
   "cell_type": "code",
   "execution_count": 1,
   "metadata": {},
   "outputs": [
    {
     "data": {
      "text/plain": [
       "12"
      ]
     },
     "execution_count": 1,
     "metadata": {},
     "output_type": "execute_result"
    }
   ],
   "source": [
    "syllables = [\"be\", \"bi\", \"de\", \"di\", \"ge\", \"gi\", \"po\", \"pu\", \"to\", \"tu\", \"ko\", \"ku\"]\n",
    "len(syllables)"
   ]
  },
  {
   "cell_type": "code",
   "execution_count": 56,
   "metadata": {},
   "outputs": [],
   "source": [
    "def make_list_blue(lst):\n",
    "    new_list = []\n",
    "    \n",
    "    for elt in lst:\n",
    "        new_list.append(\"\\\"<p style='color:blue'>\" + elt + \"</p>\\\"\")\n",
    "        \n",
    "    return new_list"
   ]
  },
  {
   "cell_type": "code",
   "execution_count": 57,
   "metadata": {},
   "outputs": [],
   "source": [
    "def make_list_green(lst):\n",
    "    new_list = []\n",
    "    \n",
    "    for elt in lst:\n",
    "        new_list.append(\"\\\"<p style='color:green'>\" + elt + \"</p>\\\"\")\n",
    "        \n",
    "    return new_list"
   ]
  },
  {
   "cell_type": "code",
   "execution_count": 58,
   "metadata": {},
   "outputs": [],
   "source": [
    "import random\n",
    "from random import shuffle\n",
    "\n",
    "def gen_seq(half_length, used_dict):\n",
    "    done = False\n",
    "    while not done:\n",
    "        seq = []\n",
    "        \n",
    "        for i in range(half_length):\n",
    "            seq.append(random.choice(syllables))\n",
    "            \n",
    "        seq = tuple(seq)\n",
    "        if seq not in used_dict:\n",
    "            repeat = False\n",
    "            repeat_dict = {}\n",
    "            \n",
    "            for elt in seq:\n",
    "                if elt in repeat_dict:\n",
    "                    repeat = True\n",
    "                repeat_dict[elt] = 1\n",
    "            \n",
    "            if not repeat:\n",
    "                done = True\n",
    "           \n",
    "    seq = list(seq)\n",
    "    return make_list_green(seq) + make_list_blue(seq[::-1])\n",
    "    "
   ]
  },
  {
   "cell_type": "code",
   "execution_count": 59,
   "metadata": {},
   "outputs": [],
   "source": [
    "def gen_dataset(half_length, num):\n",
    "    used_dict = {}\n",
    "    dataset = []\n",
    "    \n",
    "    for _ in range(num):\n",
    "        new_seq = gen_seq(half_length, used_dict)\n",
    "        half_seq = new_seq[:half_length]\n",
    "        used_dict[tuple(half_seq)] = 1\n",
    "        \n",
    "        dataset.append(new_seq)\n",
    "        \n",
    "    return dataset\n",
    "    "
   ]
  },
  {
   "cell_type": "code",
   "execution_count": 60,
   "metadata": {},
   "outputs": [],
   "source": [
    "def gen_bad_dependencies(half_length, index_to_change, used_dict):\n",
    "    done = False\n",
    "    \n",
    "    while not done:\n",
    "        base_seq = gen_seq(half_length, {})\n",
    "                        \n",
    "        current_syll = base_seq[-1 * index_to_change]\n",
    "        new_syll = random.choice(syllables)\n",
    "        \n",
    "        new_syll = make_list_blue([new_syll])[0]\n",
    "            \n",
    "        new_seq = base_seq[:]\n",
    "        new_seq[-1 * index_to_change] = new_syll\n",
    "            \n",
    "        if tuple(new_seq) not in used_dict and new_syll != current_syll and new_syll not in base_seq[:half_length]:\n",
    "            done = True\n",
    "            return new_seq\n",
    "        "
   ]
  },
  {
   "cell_type": "code",
   "execution_count": 61,
   "metadata": {},
   "outputs": [],
   "source": [
    "def gen_bad_dependencies_dataset(half_length, index_to_change, num):\n",
    "    used_dict = {}\n",
    "    dataset = []\n",
    "    \n",
    "    for _ in range(num):\n",
    "        seq = gen_bad_dependencies(half_length, index_to_change, used_dict)\n",
    "        dataset.append(seq)\n",
    "        used_dict[tuple(seq)] = 1\n",
    "        \n",
    "    return dataset"
   ]
  },
  {
   "cell_type": "code",
   "execution_count": 62,
   "metadata": {},
   "outputs": [],
   "source": [
    "def gen_unmatched_length(first_half_length, second_half_length, used_dict):\n",
    "    half_length = max([first_half_length, second_half_length])\n",
    "    \n",
    "    done = False\n",
    "    \n",
    "    while not done:\n",
    "        good_seq = gen_seq(half_length, {})\n",
    "\n",
    "        if first_half_length > second_half_length:\n",
    "            bad_seq = good_seq[:-1 * (first_half_length - second_half_length)]\n",
    "        else:\n",
    "            bad_seq = good_seq[(second_half_length - first_half_length):]\n",
    "            \n",
    "        if tuple(bad_seq) not in used_dict:\n",
    "            done = True\n",
    "            return bad_seq\n",
    "        "
   ]
  },
  {
   "cell_type": "code",
   "execution_count": 63,
   "metadata": {},
   "outputs": [],
   "source": [
    "def gen_unmatched_length_dataset(first_half_length, second_half_length, num):\n",
    "    used_dict = {}\n",
    "    dataset = []\n",
    "    \n",
    "    for _ in range(num):\n",
    "        seq = gen_unmatched_length(first_half_length, second_half_length, used_dict)\n",
    "        dataset.append(seq)\n",
    "        used_dict[tuple(seq)] = 1\n",
    "        \n",
    "    return dataset"
   ]
  },
  {
   "cell_type": "code",
   "execution_count": 64,
   "metadata": {},
   "outputs": [],
   "source": [
    "# Training\n",
    "ones = gen_dataset(1, 12)\n",
    "twos = gen_dataset(2, 12)\n",
    "\n",
    "train_ones = ones[:10]\n",
    "train_twos = twos[:10]\n",
    "\n",
    "# 1: Test on seen, seen length, same number of A’s and B’s, correct dependencies\n",
    "test_seen_ones = train_ones[:]\n",
    "shuffle(test_seen_ones)\n",
    "test_seen_ones = test_seen_ones[:2]\n",
    "\n",
    "test_seen_twos = train_twos[:]\n",
    "shuffle(test_seen_twos)\n",
    "test_seen_twos = test_seen_twos[:2]\n",
    "\n",
    "# 2: Test on unseen, seen length, same number of A’s and B’s, correct dependencies\n",
    "test_unseen_ones = ones[10:]\n",
    "test_unseen_twos = twos[10:]\n",
    "\n",
    "# 3: Test on unseen, seen length, same number of A’s and B’s, incorrect dependencies\n",
    "test_bad_deps_one = gen_bad_dependencies_dataset(1,1,2)\n",
    "test_bad_deps_two = gen_bad_dependencies_dataset(2,1,2)\n",
    "\n",
    "# 4: Test on unseen, seen length, different number of A’s and B’s, incorrect dependencies\n",
    "test_unmatched_length_seen = gen_unmatched_length_dataset(2,1,2) + gen_unmatched_length_dataset(1,2,2)\n",
    "\n",
    "# 5: Test on unseen, unseen length, same number of A’s and B’s, correct dependencies\n",
    "test_unseen_length_good = gen_dataset(3,4)\n",
    "\n",
    "# 6: Test on unseen, unseen length, same number of A’s and B’s, incorrect dependencies\n",
    "test_bad_deps_three = gen_bad_dependencies_dataset(3,1,2) + gen_bad_dependencies_dataset(3,2,2)\n",
    "\n",
    "# 7: Test on unseen, unseen length, different number of A’s and B’s, incorrect dependencies\n",
    "test_unmatched_length_three = gen_unmatched_length_dataset(3,2,2) + gen_unmatched_length_dataset(2,3,2)\n",
    "\n",
    "\n",
    "\n"
   ]
  },
  {
   "cell_type": "code",
   "execution_count": 65,
   "metadata": {},
   "outputs": [],
   "source": [
    "train = train_ones + train_twos\n",
    "test = test_seen_ones + test_seen_twos + test_unseen_ones + test_unseen_twos + test_bad_deps_one + test_bad_deps_two + test_unmatched_length_seen + test_unseen_length_good + test_bad_deps_three + test_unmatched_length_three\n",
    "\n",
    "shuffle(train)\n",
    "shuffle(test)"
   ]
  },
  {
   "cell_type": "code",
   "execution_count": 66,
   "metadata": {},
   "outputs": [
    {
     "data": {
      "text/plain": [
       "[['\"<p style=\\'color:green\\'>de</p>\"', '\"<p style=\\'color:blue\\'>de</p>\"'],\n",
       " ['\"<p style=\\'color:green\\'>po</p>\"',\n",
       "  '\"<p style=\\'color:green\\'>ko</p>\"',\n",
       "  '\"<p style=\\'color:blue\\'>ko</p>\"',\n",
       "  '\"<p style=\\'color:blue\\'>po</p>\"'],\n",
       " ['\"<p style=\\'color:green\\'>tu</p>\"', '\"<p style=\\'color:blue\\'>tu</p>\"'],\n",
       " ['\"<p style=\\'color:green\\'>to</p>\"', '\"<p style=\\'color:blue\\'>to</p>\"'],\n",
       " ['\"<p style=\\'color:green\\'>bi</p>\"',\n",
       "  '\"<p style=\\'color:green\\'>ko</p>\"',\n",
       "  '\"<p style=\\'color:blue\\'>ko</p>\"',\n",
       "  '\"<p style=\\'color:blue\\'>bi</p>\"'],\n",
       " ['\"<p style=\\'color:green\\'>ku</p>\"',\n",
       "  '\"<p style=\\'color:green\\'>ko</p>\"',\n",
       "  '\"<p style=\\'color:blue\\'>ko</p>\"',\n",
       "  '\"<p style=\\'color:blue\\'>ku</p>\"'],\n",
       " ['\"<p style=\\'color:green\\'>po</p>\"',\n",
       "  '\"<p style=\\'color:green\\'>to</p>\"',\n",
       "  '\"<p style=\\'color:blue\\'>to</p>\"',\n",
       "  '\"<p style=\\'color:blue\\'>po</p>\"'],\n",
       " ['\"<p style=\\'color:green\\'>po</p>\"', '\"<p style=\\'color:blue\\'>po</p>\"'],\n",
       " ['\"<p style=\\'color:green\\'>bi</p>\"', '\"<p style=\\'color:blue\\'>bi</p>\"'],\n",
       " ['\"<p style=\\'color:green\\'>ge</p>\"',\n",
       "  '\"<p style=\\'color:green\\'>bi</p>\"',\n",
       "  '\"<p style=\\'color:blue\\'>bi</p>\"',\n",
       "  '\"<p style=\\'color:blue\\'>ge</p>\"'],\n",
       " ['\"<p style=\\'color:green\\'>be</p>\"', '\"<p style=\\'color:blue\\'>be</p>\"'],\n",
       " ['\"<p style=\\'color:green\\'>be</p>\"',\n",
       "  '\"<p style=\\'color:green\\'>ku</p>\"',\n",
       "  '\"<p style=\\'color:blue\\'>ku</p>\"',\n",
       "  '\"<p style=\\'color:blue\\'>be</p>\"'],\n",
       " ['\"<p style=\\'color:green\\'>to</p>\"', '\"<p style=\\'color:blue\\'>to</p>\"'],\n",
       " ['\"<p style=\\'color:green\\'>to</p>\"',\n",
       "  '\"<p style=\\'color:green\\'>de</p>\"',\n",
       "  '\"<p style=\\'color:blue\\'>de</p>\"',\n",
       "  '\"<p style=\\'color:blue\\'>to</p>\"'],\n",
       " ['\"<p style=\\'color:green\\'>be</p>\"',\n",
       "  '\"<p style=\\'color:green\\'>bi</p>\"',\n",
       "  '\"<p style=\\'color:blue\\'>bi</p>\"',\n",
       "  '\"<p style=\\'color:blue\\'>be</p>\"'],\n",
       " ['\"<p style=\\'color:green\\'>be</p>\"', '\"<p style=\\'color:blue\\'>be</p>\"'],\n",
       " ['\"<p style=\\'color:green\\'>bi</p>\"', '\"<p style=\\'color:blue\\'>bi</p>\"'],\n",
       " ['\"<p style=\\'color:green\\'>po</p>\"',\n",
       "  '\"<p style=\\'color:green\\'>pu</p>\"',\n",
       "  '\"<p style=\\'color:blue\\'>pu</p>\"',\n",
       "  '\"<p style=\\'color:blue\\'>po</p>\"'],\n",
       " ['\"<p style=\\'color:green\\'>to</p>\"', '\"<p style=\\'color:blue\\'>to</p>\"'],\n",
       " ['\"<p style=\\'color:green\\'>tu</p>\"',\n",
       "  '\"<p style=\\'color:green\\'>di</p>\"',\n",
       "  '\"<p style=\\'color:blue\\'>di</p>\"',\n",
       "  '\"<p style=\\'color:blue\\'>tu</p>\"']]"
      ]
     },
     "execution_count": 66,
     "metadata": {},
     "output_type": "execute_result"
    }
   ],
   "source": [
    "train"
   ]
  },
  {
   "cell_type": "code",
   "execution_count": 67,
   "metadata": {},
   "outputs": [
    {
     "data": {
      "text/plain": [
       "[['\"<p style=\\'color:green\\'>ge</p>\"',\n",
       "  '\"<p style=\\'color:green\\'>de</p>\"',\n",
       "  '\"<p style=\\'color:blue\\'>de</p>\"',\n",
       "  '\"<p style=\\'color:blue\\'>ge</p>\"'],\n",
       " ['\"<p style=\\'color:green\\'>di</p>\"',\n",
       "  '\"<p style=\\'color:green\\'>ku</p>\"',\n",
       "  '\"<p style=\\'color:green\\'>gi</p>\"',\n",
       "  '\"<p style=\\'color:blue\\'>gi</p>\"',\n",
       "  '\"<p style=\\'color:blue\\'>ku</p>\"'],\n",
       " ['\"<p style=\\'color:green\\'>bi</p>\"',\n",
       "  '\"<p style=\\'color:blue\\'>bi</p>\"',\n",
       "  '\"<p style=\\'color:blue\\'>be</p>\"'],\n",
       " ['\"<p style=\\'color:green\\'>gi</p>\"',\n",
       "  '\"<p style=\\'color:green\\'>bi</p>\"',\n",
       "  '\"<p style=\\'color:green\\'>ge</p>\"',\n",
       "  '\"<p style=\\'color:blue\\'>ge</p>\"',\n",
       "  '\"<p style=\\'color:blue\\'>bi</p>\"',\n",
       "  '\"<p style=\\'color:blue\\'>to</p>\"'],\n",
       " ['\"<p style=\\'color:green\\'>to</p>\"', '\"<p style=\\'color:blue\\'>to</p>\"'],\n",
       " ['\"<p style=\\'color:green\\'>tu</p>\"', '\"<p style=\\'color:blue\\'>be</p>\"'],\n",
       " ['\"<p style=\\'color:green\\'>di</p>\"',\n",
       "  '\"<p style=\\'color:green\\'>po</p>\"',\n",
       "  '\"<p style=\\'color:green\\'>ku</p>\"',\n",
       "  '\"<p style=\\'color:blue\\'>ku</p>\"',\n",
       "  '\"<p style=\\'color:blue\\'>po</p>\"',\n",
       "  '\"<p style=\\'color:blue\\'>di</p>\"'],\n",
       " ['\"<p style=\\'color:green\\'>be</p>\"',\n",
       "  '\"<p style=\\'color:green\\'>bi</p>\"',\n",
       "  '\"<p style=\\'color:blue\\'>bi</p>\"',\n",
       "  '\"<p style=\\'color:blue\\'>be</p>\"'],\n",
       " ['\"<p style=\\'color:green\\'>tu</p>\"',\n",
       "  '\"<p style=\\'color:green\\'>gi</p>\"',\n",
       "  '\"<p style=\\'color:blue\\'>gi</p>\"',\n",
       "  '\"<p style=\\'color:blue\\'>ku</p>\"'],\n",
       " ['\"<p style=\\'color:green\\'>tu</p>\"',\n",
       "  '\"<p style=\\'color:green\\'>pu</p>\"',\n",
       "  '\"<p style=\\'color:blue\\'>pu</p>\"'],\n",
       " ['\"<p style=\\'color:green\\'>di</p>\"',\n",
       "  '\"<p style=\\'color:green\\'>ko</p>\"',\n",
       "  '\"<p style=\\'color:green\\'>pu</p>\"',\n",
       "  '\"<p style=\\'color:blue\\'>pu</p>\"',\n",
       "  '\"<p style=\\'color:blue\\'>ko</p>\"',\n",
       "  '\"<p style=\\'color:blue\\'>de</p>\"'],\n",
       " ['\"<p style=\\'color:green\\'>po</p>\"',\n",
       "  '\"<p style=\\'color:blue\\'>po</p>\"',\n",
       "  '\"<p style=\\'color:blue\\'>bi</p>\"'],\n",
       " ['\"<p style=\\'color:green\\'>ge</p>\"',\n",
       "  '\"<p style=\\'color:green\\'>tu</p>\"',\n",
       "  '\"<p style=\\'color:green\\'>ko</p>\"',\n",
       "  '\"<p style=\\'color:blue\\'>ko</p>\"',\n",
       "  '\"<p style=\\'color:blue\\'>gi</p>\"',\n",
       "  '\"<p style=\\'color:blue\\'>ge</p>\"'],\n",
       " ['\"<p style=\\'color:green\\'>ge</p>\"',\n",
       "  '\"<p style=\\'color:green\\'>pu</p>\"',\n",
       "  '\"<p style=\\'color:green\\'>ko</p>\"',\n",
       "  '\"<p style=\\'color:blue\\'>ko</p>\"',\n",
       "  '\"<p style=\\'color:blue\\'>pu</p>\"',\n",
       "  '\"<p style=\\'color:blue\\'>ge</p>\"'],\n",
       " ['\"<p style=\\'color:green\\'>ku</p>\"',\n",
       "  '\"<p style=\\'color:green\\'>di</p>\"',\n",
       "  '\"<p style=\\'color:green\\'>ko</p>\"',\n",
       "  '\"<p style=\\'color:blue\\'>ko</p>\"',\n",
       "  '\"<p style=\\'color:blue\\'>di</p>\"',\n",
       "  '\"<p style=\\'color:blue\\'>ku</p>\"'],\n",
       " ['\"<p style=\\'color:green\\'>be</p>\"',\n",
       "  '\"<p style=\\'color:green\\'>di</p>\"',\n",
       "  '\"<p style=\\'color:blue\\'>di</p>\"',\n",
       "  '\"<p style=\\'color:blue\\'>ge</p>\"'],\n",
       " ['\"<p style=\\'color:green\\'>gi</p>\"',\n",
       "  '\"<p style=\\'color:green\\'>ge</p>\"',\n",
       "  '\"<p style=\\'color:green\\'>po</p>\"',\n",
       "  '\"<p style=\\'color:blue\\'>po</p>\"',\n",
       "  '\"<p style=\\'color:blue\\'>ku</p>\"',\n",
       "  '\"<p style=\\'color:blue\\'>gi</p>\"'],\n",
       " ['\"<p style=\\'color:green\\'>tu</p>\"', '\"<p style=\\'color:blue\\'>tu</p>\"'],\n",
       " ['\"<p style=\\'color:green\\'>bi</p>\"',\n",
       "  '\"<p style=\\'color:green\\'>po</p>\"',\n",
       "  '\"<p style=\\'color:blue\\'>po</p>\"',\n",
       "  '\"<p style=\\'color:blue\\'>bi</p>\"',\n",
       "  '\"<p style=\\'color:blue\\'>ko</p>\"'],\n",
       " ['\"<p style=\\'color:green\\'>ko</p>\"',\n",
       "  '\"<p style=\\'color:green\\'>bi</p>\"',\n",
       "  '\"<p style=\\'color:blue\\'>bi</p>\"',\n",
       "  '\"<p style=\\'color:blue\\'>ko</p>\"'],\n",
       " ['\"<p style=\\'color:green\\'>bi</p>\"',\n",
       "  '\"<p style=\\'color:green\\'>tu</p>\"',\n",
       "  '\"<p style=\\'color:blue\\'>tu</p>\"'],\n",
       " ['\"<p style=\\'color:green\\'>ge</p>\"',\n",
       "  '\"<p style=\\'color:green\\'>tu</p>\"',\n",
       "  '\"<p style=\\'color:green\\'>bi</p>\"',\n",
       "  '\"<p style=\\'color:blue\\'>bi</p>\"',\n",
       "  '\"<p style=\\'color:blue\\'>tu</p>\"'],\n",
       " ['\"<p style=\\'color:green\\'>to</p>\"', '\"<p style=\\'color:blue\\'>pu</p>\"'],\n",
       " ['\"<p style=\\'color:green\\'>pu</p>\"', '\"<p style=\\'color:blue\\'>pu</p>\"'],\n",
       " ['\"<p style=\\'color:green\\'>po</p>\"',\n",
       "  '\"<p style=\\'color:green\\'>to</p>\"',\n",
       "  '\"<p style=\\'color:blue\\'>to</p>\"',\n",
       "  '\"<p style=\\'color:blue\\'>po</p>\"'],\n",
       " ['\"<p style=\\'color:green\\'>gi</p>\"',\n",
       "  '\"<p style=\\'color:green\\'>bi</p>\"',\n",
       "  '\"<p style=\\'color:blue\\'>bi</p>\"',\n",
       "  '\"<p style=\\'color:blue\\'>gi</p>\"',\n",
       "  '\"<p style=\\'color:blue\\'>de</p>\"'],\n",
       " ['\"<p style=\\'color:green\\'>tu</p>\"', '\"<p style=\\'color:blue\\'>tu</p>\"'],\n",
       " ['\"<p style=\\'color:green\\'>bi</p>\"',\n",
       "  '\"<p style=\\'color:green\\'>pu</p>\"',\n",
       "  '\"<p style=\\'color:green\\'>ku</p>\"',\n",
       "  '\"<p style=\\'color:blue\\'>ku</p>\"',\n",
       "  '\"<p style=\\'color:blue\\'>pu</p>\"',\n",
       "  '\"<p style=\\'color:blue\\'>bi</p>\"']]"
      ]
     },
     "execution_count": 67,
     "metadata": {},
     "output_type": "execute_result"
    }
   ],
   "source": [
    "test"
   ]
  },
  {
   "cell_type": "code",
   "execution_count": 73,
   "metadata": {},
   "outputs": [],
   "source": [
    "def print_list_of_lists(lol):\n",
    "    string = \"[\" + \", \".join(\"[\" + \", \".join(x) + \"]\" for x in lol) + \"]\"\n",
    "    \n",
    "    return string"
   ]
  },
  {
   "cell_type": "code",
   "execution_count": 77,
   "metadata": {},
   "outputs": [
    {
     "name": "stdout",
     "output_type": "stream",
     "text": [
      "[[\"<p style='color:green'>de</p>\", \"<p style='color:blue'>de</p>\"], [\"<p style='color:green'>po</p>\", \"<p style='color:green'>ko</p>\", \"<p style='color:blue'>ko</p>\", \"<p style='color:blue'>po</p>\"], [\"<p style='color:green'>tu</p>\", \"<p style='color:blue'>tu</p>\"]]\n"
     ]
    }
   ],
   "source": [
    "print(print_list_of_lists(train[:3]))"
   ]
  },
  {
   "cell_type": "code",
   "execution_count": 78,
   "metadata": {},
   "outputs": [
    {
     "name": "stdout",
     "output_type": "stream",
     "text": [
      "[[\"<p style='color:green'>ge</p>\", \"<p style='color:green'>de</p>\", \"<p style='color:blue'>de</p>\", \"<p style='color:blue'>ge</p>\"], [\"<p style='color:green'>di</p>\", \"<p style='color:green'>ku</p>\", \"<p style='color:green'>gi</p>\", \"<p style='color:blue'>gi</p>\", \"<p style='color:blue'>ku</p>\"], [\"<p style='color:green'>bi</p>\", \"<p style='color:blue'>bi</p>\", \"<p style='color:blue'>be</p>\"]]\n"
     ]
    }
   ],
   "source": [
    "print(print_list_of_lists(test[:3]))"
   ]
  },
  {
   "cell_type": "code",
   "execution_count": null,
   "metadata": {},
   "outputs": [],
   "source": []
  },
  {
   "cell_type": "code",
   "execution_count": null,
   "metadata": {},
   "outputs": [],
   "source": []
  },
  {
   "cell_type": "code",
   "execution_count": null,
   "metadata": {},
   "outputs": [],
   "source": []
  }
 ],
 "metadata": {
  "kernelspec": {
   "display_name": "Python 3",
   "language": "python",
   "name": "python3"
  },
  "language_info": {
   "codemirror_mode": {
    "name": "ipython",
    "version": 3
   },
   "file_extension": ".py",
   "mimetype": "text/x-python",
   "name": "python",
   "nbconvert_exporter": "python",
   "pygments_lexer": "ipython3",
   "version": "3.7.3"
  }
 },
 "nbformat": 4,
 "nbformat_minor": 2
}
